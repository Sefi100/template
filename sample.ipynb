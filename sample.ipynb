{
 "cells": [
  {
   "cell_type": "code",
   "execution_count": null,
   "metadata": {
    "collapsed": false
   },
   "outputs": [],
   "source": [
    "import numpy as np"
   ]
  },
  {
   "cell_type": "markdown",
   "metadata": {
    "collapsed": false
   },
   "source": [
    "# This is a section name"
   ]
  },
  {
   "cell_type": "markdown",
   "metadata": {
    "collapsed": false
   },
   "source": [
    "## This is a subsection"
   ]
  },
  {
   "cell_type": "markdown",
   "metadata": {
    "collapsed": false
   },
   "source": [
    "### Subsubsection\n",
    "> paragraphs\n",
    "\n",
    "- list\n",
    "    - sub.list\n",
    "* list 2.0\n",
    "1. numbered list\n",
    "    1. numbered sub-list"
   ]
  },
  {
   "cell_type": "markdown",
   "metadata": {
    "collapsed": false
   },
   "source": [
    "# Markdown commands:\n",
    "## HTML:\n",
    "* <p>&#9658</p> UTF-8 shapes\n",
    "* <a href=\"https://www.w3schools.com/charsets/ref_utf_geometric.asp\">references</a>\n",
    "<img src=\"heat100_2.png\" alt=\"valami\" title=\"Kép\">\n",
    "\n",
    "* local image\n",
    "<img src=\"https://upload.wikimedia.org/wikipedia/commons/8/87/Double_pendulum_flips_graph.png\" width=\"400\">\n",
    "\n",
    "* image from link\n",
    "* <i> italics </i>\n",
    "* <b> bold text </b>"
   ]
  },
  {
   "cell_type": "markdown",
   "metadata": {
    "collapsed": false
   },
   "source": [
    "## Markdown/ latex commands:\n",
    "Use these if you want to save to pdf, as it uses latex converter and ignores HTML input\n",
    "\n",
    "* $\\mathrm{latex}~\\mathrm{equation}=\\frac{a^2}{\\dot{b}}$\n",
    "* `code style text`\n",
    "* __bold__ **text**\n",
    "* _italic_ *text*\n",
    "***\n",
    "* horizontal line"
   ]
  },
  {
   "cell_type": "markdown",
   "metadata": {
    "collapsed": false
   },
   "source": [
    "## Links\n",
    "* [Link to section](#this-is-a-section-name)\n",
    "* <a href=\"subsubsection\">HTML link</a>\n",
    "* __[External link](https://www.ibm.com/docs/en/watson-studio-local/1.2.3?topic=notebooks-markdown-jupyter-cheatsheet)__\n",
    "![image](heat100_2.png)\n",
    "![external image](https://upload.wikimedia.org/wikipedia/commons/8/87/Double_pendulum_flips_graph.png)\n",
    "* note that `nbconvert` for some reason cannot produce a pdf if you include images from external sources"
   ]
  },
  {
   "cell_type": "markdown",
   "source": [
    "# Utilities\n",
    "In the following I will provide some amount of Python code that helps in any kind of data evaluation (or at least I hope it helps)."
   ],
   "metadata": {
    "collapsed": false
   }
  },
  {
   "cell_type": "code",
   "execution_count": null,
   "outputs": [],
   "source": [],
   "metadata": {
    "collapsed": false
   }
  },
  {
   "cell_type": "markdown",
   "metadata": {
    "collapsed": false
   },
   "source": []
  }
 ],
 "metadata": {
  "authors": [
   {
    "name": "Györgyfalvai Fanni"
   },
   {
    "name": "Schäffer Bálint"
   }
  ],
  "date": "2023-07-07",
  "kernelspec": {
   "display_name": "Python 3",
   "language": "python",
   "name": "python3"
  },
  "language_info": {
   "codemirror_mode": {
    "name": "ipython",
    "version": 2
   },
   "file_extension": ".py",
   "mimetype": "text/x-python",
   "name": "python",
   "nbconvert_exporter": "python",
   "pygments_lexer": "ipython2",
   "version": "2.7.6"
  },
  "title": "test"
 },
 "nbformat": 4,
 "nbformat_minor": 0
}
