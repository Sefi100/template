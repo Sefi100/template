{
 "cells": [
  {
   "cell_type": "code",
   "execution_count": 3,
   "metadata": {
    "collapsed": false,
    "ExecuteTime": {
     "end_time": "2023-08-22T12:30:25.689838Z",
     "start_time": "2023-08-22T12:30:25.211357900Z"
    }
   },
   "outputs": [],
   "source": [
    "import numpy as np\n",
    "import pandas as pd"
   ]
  },
  {
   "cell_type": "markdown",
   "metadata": {
    "collapsed": false
   },
   "source": [
    "# This is a section name"
   ]
  },
  {
   "cell_type": "markdown",
   "metadata": {
    "collapsed": false
   },
   "source": [
    "## This is a subsection"
   ]
  },
  {
   "cell_type": "markdown",
   "metadata": {
    "collapsed": false
   },
   "source": [
    "### Subsubsection\n",
    "> paragraphs\n",
    "\n",
    "- list\n",
    "    - sub.list\n",
    "* list 2.0\n",
    "1. numbered list\n",
    "    1. numbered sub-list"
   ]
  },
  {
   "cell_type": "markdown",
   "metadata": {
    "collapsed": false
   },
   "source": [
    "# Markdown commands:\n",
    "## HTML:\n",
    "* <p>&#9658</p> UTF-8 shapes\n",
    "* <a href=\"https://www.w3schools.com/charsets/ref_utf_geometric.asp\">references</a>\n",
    "<img src=\"heat100_2.png\" alt=\"valami\" title=\"Kép\">\n",
    "\n",
    "* local image\n",
    "<img src=\"https://upload.wikimedia.org/wikipedia/commons/8/87/Double_pendulum_flips_graph.png\" width=\"400\">\n",
    "\n",
    "* image from link\n",
    "* <i> italics </i>\n",
    "* <b> bold text </b>"
   ]
  },
  {
   "cell_type": "markdown",
   "metadata": {
    "collapsed": false
   },
   "source": [
    "## Markdown/ latex commands:\n",
    "Use these if you want to save to pdf, as it uses latex converter and ignores HTML input\n",
    "\n",
    "* $\\mathrm{latex}~\\mathrm{equation}=\\frac{a^2}{\\dot{b}}$\n",
    "* `code style text`\n",
    "* __bold__ **text**\n",
    "* _italic_ *text*\n",
    "***\n",
    "* horizontal line"
   ]
  },
  {
   "cell_type": "markdown",
   "metadata": {
    "collapsed": false
   },
   "source": [
    "## Links\n",
    "* [Link to section](#this-is-a-section-name)\n",
    "* <a href=\"subsubsection\">HTML link</a>\n",
    "* __[External link](https://www.ibm.com/docs/en/watson-studio-local/1.2.3?topic=notebooks-markdown-jupyter-cheatsheet)__\n",
    "![image](heat100_2.png)\n",
    "![external image](https://upload.wikimedia.org/wikipedia/commons/8/87/Double_pendulum_flips_graph.png)\n",
    "* note that `nbconvert` for some reason cannot produce a pdf if you include images from external sources"
   ]
  },
  {
   "cell_type": "markdown",
   "source": [
    "# Utilities\n",
    "In the following I will provide some amount of Python code that helps in any kind of data evaluation (or at least I hope it helps)."
   ],
   "metadata": {
    "collapsed": false
   }
  },
  {
   "cell_type": "markdown",
   "source": [
    "## Acquiring data\n",
    "You can use `pandas` to display tables in a fancy way when converting to pdf, or even when importng data from various file formats."
   ],
   "metadata": {
    "collapsed": false
   }
  },
  {
   "cell_type": "code",
   "execution_count": 4,
   "outputs": [],
   "source": [
    "import bs4\n",
    "from os import PathLike\n",
    "\n",
    "random_data = np.random.random(size=[2, 7])*100\n",
    "hdata = np.loadtxt('Hszinkep', dtype=float)\n",
    "data_panda = pd.read_csv('SDS00002.CSV', skiprows=2, header=None, usecols=[3, 4, 5]).to_numpy()"
   ],
   "metadata": {
    "collapsed": false,
    "ExecuteTime": {
     "end_time": "2023-08-22T12:30:28.555147Z",
     "start_time": "2023-08-22T12:30:28.534311500Z"
    }
   }
  },
  {
   "cell_type": "markdown",
   "source": [
    "Now txt and csv is easy, but what about for example `.log` files?"
   ],
   "metadata": {
    "collapsed": false
   }
  },
  {
   "cell_type": "code",
   "execution_count": 9,
   "outputs": [
    {
     "ename": "FeatureNotFound",
     "evalue": "Couldn't find a tree builder with the features you requested: lxml. Do you need to install a parser library?",
     "output_type": "error",
     "traceback": [
      "\u001B[1;31m---------------------------------------------------------------------------\u001B[0m",
      "\u001B[1;31mFeatureNotFound\u001B[0m                           Traceback (most recent call last)",
      "Cell \u001B[1;32mIn[9], line 23\u001B[0m\n\u001B[0;32m     20\u001B[0m     out[:,\u001B[38;5;241m0\u001B[39m] \u001B[38;5;241m=\u001B[39m out[:,\u001B[38;5;241m0\u001B[39m]\u001B[38;5;241m-\u001B[39mt0\n\u001B[0;32m     21\u001B[0m     \u001B[38;5;28;01mreturn\u001B[39;00m np\u001B[38;5;241m.\u001B[39marray([out[:,\u001B[38;5;241m0\u001B[39m], out[:,\u001B[38;5;241m1\u001B[39m]])\n\u001B[1;32m---> 23\u001B[0m log1 \u001B[38;5;241m=\u001B[39m \u001B[43mtablegen\u001B[49m\u001B[43m(\u001B[49m\u001B[38;5;124;43m\"\u001B[39;49m\u001B[38;5;124;43mVrGauges1.log\u001B[39;49m\u001B[38;5;124;43m\"\u001B[39;49m\u001B[43m)\u001B[49m\n",
      "Cell \u001B[1;32mIn[9], line 2\u001B[0m, in \u001B[0;36mtablegen\u001B[1;34m(name, offset)\u001B[0m\n\u001B[0;32m      1\u001B[0m \u001B[38;5;28;01mdef\u001B[39;00m \u001B[38;5;21mtablegen\u001B[39m(name: \u001B[38;5;28mstr\u001B[39m \u001B[38;5;241m|\u001B[39m \u001B[38;5;28mbytes\u001B[39m \u001B[38;5;241m|\u001B[39m PathLike[\u001B[38;5;28mstr\u001B[39m] \u001B[38;5;241m|\u001B[39m PathLike[\u001B[38;5;28mbytes\u001B[39m] \u001B[38;5;241m|\u001B[39m \u001B[38;5;28mint\u001B[39m, offset: \u001B[38;5;28mint\u001B[39m \u001B[38;5;241m|\u001B[39m \u001B[38;5;28mfloat\u001B[39m \u001B[38;5;241m=\u001B[39m \u001B[38;5;241m0\u001B[39m):\n\u001B[1;32m----> 2\u001B[0m     log \u001B[38;5;241m=\u001B[39m \u001B[43mbs4\u001B[49m\u001B[38;5;241;43m.\u001B[39;49m\u001B[43mBeautifulSoup\u001B[49m\u001B[43m(\u001B[49m\u001B[38;5;28;43mopen\u001B[39;49m\u001B[43m(\u001B[49m\u001B[43mname\u001B[49m\u001B[43m)\u001B[49m\u001B[43m,\u001B[49m\u001B[43m \u001B[49m\u001B[38;5;124;43m'\u001B[39;49m\u001B[38;5;124;43mlxml\u001B[39;49m\u001B[38;5;124;43m'\u001B[39;49m\u001B[43m)\u001B[49m\n\u001B[0;32m      3\u001B[0m     table \u001B[38;5;241m=\u001B[39m log\u001B[38;5;241m.\u001B[39mtable\n\u001B[0;32m      4\u001B[0m     rows \u001B[38;5;241m=\u001B[39m table\u001B[38;5;241m.\u001B[39mfind_all(\u001B[38;5;124m'\u001B[39m\u001B[38;5;124mrow\u001B[39m\u001B[38;5;124m'\u001B[39m)\n",
      "File \u001B[1;32m~\\PycharmProjects\\template\\venv\\Lib\\site-packages\\bs4\\__init__.py:250\u001B[0m, in \u001B[0;36mBeautifulSoup.__init__\u001B[1;34m(self, markup, features, builder, parse_only, from_encoding, exclude_encodings, element_classes, **kwargs)\u001B[0m\n\u001B[0;32m    248\u001B[0m     builder_class \u001B[38;5;241m=\u001B[39m builder_registry\u001B[38;5;241m.\u001B[39mlookup(\u001B[38;5;241m*\u001B[39mfeatures)\n\u001B[0;32m    249\u001B[0m     \u001B[38;5;28;01mif\u001B[39;00m builder_class \u001B[38;5;129;01mis\u001B[39;00m \u001B[38;5;28;01mNone\u001B[39;00m:\n\u001B[1;32m--> 250\u001B[0m         \u001B[38;5;28;01mraise\u001B[39;00m FeatureNotFound(\n\u001B[0;32m    251\u001B[0m             \u001B[38;5;124m\"\u001B[39m\u001B[38;5;124mCouldn\u001B[39m\u001B[38;5;124m'\u001B[39m\u001B[38;5;124mt find a tree builder with the features you \u001B[39m\u001B[38;5;124m\"\u001B[39m\n\u001B[0;32m    252\u001B[0m             \u001B[38;5;124m\"\u001B[39m\u001B[38;5;124mrequested: \u001B[39m\u001B[38;5;132;01m%s\u001B[39;00m\u001B[38;5;124m. Do you need to install a parser library?\u001B[39m\u001B[38;5;124m\"\u001B[39m\n\u001B[0;32m    253\u001B[0m             \u001B[38;5;241m%\u001B[39m \u001B[38;5;124m\"\u001B[39m\u001B[38;5;124m,\u001B[39m\u001B[38;5;124m\"\u001B[39m\u001B[38;5;241m.\u001B[39mjoin(features))\n\u001B[0;32m    255\u001B[0m \u001B[38;5;66;03m# At this point either we have a TreeBuilder instance in\u001B[39;00m\n\u001B[0;32m    256\u001B[0m \u001B[38;5;66;03m# builder, or we have a builder_class that we can instantiate\u001B[39;00m\n\u001B[0;32m    257\u001B[0m \u001B[38;5;66;03m# with the remaining **kwargs.\u001B[39;00m\n\u001B[0;32m    258\u001B[0m \u001B[38;5;28;01mif\u001B[39;00m builder \u001B[38;5;129;01mis\u001B[39;00m \u001B[38;5;28;01mNone\u001B[39;00m:\n",
      "\u001B[1;31mFeatureNotFound\u001B[0m: Couldn't find a tree builder with the features you requested: lxml. Do you need to install a parser library?"
     ]
    }
   ],
   "source": [
    "\n",
    "def tablegen(name: str | bytes | PathLike[str] | PathLike[bytes] | int, offset: int | float = 0):\n",
    "    log = bs4.BeautifulSoup(open(name), 'lxml')\n",
    "    table = log.table\n",
    "    rows = table.find_all('row')\n",
    "    out = []\n",
    "    t0 = -1\n",
    "    for tr in rows:\n",
    "        t = tr.find_all('t')\n",
    "        t = str([i.text for i in t][0])\n",
    "        t = sum(x * int(t) for x, t in zip([3600, 60, 1], t.split(\":\")))\n",
    "        if t0 == -1: t0 = t+offset\n",
    "        p = tr.find_all('p')\n",
    "        try:\n",
    "            p = float([i.text for i in p][0])\n",
    "            out.append([t, p])\n",
    "        except ValueError:\n",
    "            p = None\n",
    "\n",
    "    out = np.array(out)\n",
    "    out[:,0] = out[:,0]-t0\n",
    "    return np.array([out[:,0], out[:,1]])\n",
    "\n",
    "log1 = tablegen(\"VrGauges1.log\")"
   ],
   "metadata": {
    "collapsed": false,
    "ExecuteTime": {
     "end_time": "2023-08-22T12:31:42.350432100Z",
     "start_time": "2023-08-22T12:31:42.307241600Z"
    }
   }
  },
  {
   "cell_type": "markdown",
   "metadata": {
    "collapsed": false
   },
   "source": [
    "Displaying tables, and converting them to latex compatible text:"
   ]
  },
  {
   "cell_type": "code",
   "execution_count": 13,
   "outputs": [
    {
     "name": "stdout",
     "output_type": "stream",
     "text": [
      "     $col_1$    $col_2$\n",
      "0  20.373640  41.522051\n",
      "1  62.274995  94.200527\n",
      "2  98.962062   8.532713\n",
      "3  89.205366  90.136222\n",
      "4  65.811935   5.626135\n",
      "5  84.170606  73.221033\n",
      "6  59.286774   4.875167\n",
      "\\begin{tabular}{c|c}\n",
      "\\toprule\n",
      "$col_1$ & $col_2$ \\\\\n",
      "\\midrule\n",
      "$20,37 \\pm 0,05$ & $41,52 \\pm 0,05$ \\\\\n",
      "$62,27 \\pm 0,05$ & $94,20 \\pm 0,05$ \\\\\n",
      "$98,96 \\pm 0,05$ & $8,53 \\pm 0,05$ \\\\\n",
      "$89,21 \\pm 0,05$ & $90,14 \\pm 0,05$ \\\\\n",
      "$65,81 \\pm 0,05$ & $5,63 \\pm 0,05$ \\\\\n",
      "$84,17 \\pm 0,05$ & $73,22 \\pm 0,05$ \\\\\n",
      "$59,29 \\pm 0,05$ & $4,88 \\pm 0,05$ \\\\\n",
      "\\bottomrule\n",
      "\\end{tabular}\n"
     ]
    }
   ],
   "source": [
    "data = pd.DataFrame(data={'$col_1$': random_data[0], '$col_2$': random_data[1]})\n",
    "print(data)\n",
    "print(data.to_latex(column_format='c|c', decimal=',', float_format=\"$%.2f \\pm 0,05$\", index=False).replace('\\\\textbackslash ', '\\\\').replace('\\$', '$').replace('\\_', '_'))"
   ],
   "metadata": {
    "collapsed": false,
    "ExecuteTime": {
     "end_time": "2023-08-22T12:33:49.167680Z",
     "start_time": "2023-08-22T12:33:49.161908300Z"
    }
   }
  },
  {
   "cell_type": "markdown",
   "source": [
    "## Making figures\n",
    "Figures we mostly put together using `matplotlib.pyplot`. It has nearly endless customization options, I'll show some examples of how to use it"
   ],
   "metadata": {
    "collapsed": false
   }
  },
  {
   "cell_type": "code",
   "execution_count": null,
   "outputs": [],
   "source": [
    "import matplotlib.pyplot as plt\n"
   ],
   "metadata": {
    "collapsed": false
   }
  }
 ],
 "metadata": {
  "authors": [
   {
    "name": "Györgyfalvai Fanni"
   },
   {
    "name": "Schäffer Bálint"
   }
  ],
  "date": "2023-07-07",
  "kernelspec": {
   "display_name": "Python 3",
   "language": "python",
   "name": "python3"
  },
  "language_info": {
   "codemirror_mode": {
    "name": "ipython",
    "version": 2
   },
   "file_extension": ".py",
   "mimetype": "text/x-python",
   "name": "python",
   "nbconvert_exporter": "python",
   "pygments_lexer": "ipython2",
   "version": "2.7.6"
  },
  "title": "test"
 },
 "nbformat": 4,
 "nbformat_minor": 0
}
